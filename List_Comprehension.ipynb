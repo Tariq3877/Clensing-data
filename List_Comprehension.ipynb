{
  "nbformat": 4,
  "nbformat_minor": 0,
  "metadata": {
    "colab": {
      "name": "List_Comprehension.ipynb",
      "provenance": [],
      "authorship_tag": "ABX9TyNsygEc5p17W81AKjMLqqHt",
      "include_colab_link": true
    },
    "kernelspec": {
      "name": "python3",
      "display_name": "Python 3"
    },
    "language_info": {
      "name": "python"
    }
  },
  "cells": [
    {
      "cell_type": "markdown",
      "metadata": {
        "id": "view-in-github",
        "colab_type": "text"
      },
      "source": [
        "<a href=\"https://colab.research.google.com/github/Tariq3877/Clensing-data/blob/main/List_Comprehension.ipynb\" target=\"_parent\"><img src=\"https://colab.research.google.com/assets/colab-badge.svg\" alt=\"Open In Colab\"/></a>"
      ]
    },
    {
      "cell_type": "code",
      "execution_count": 1,
      "metadata": {
        "id": "fZNyMhBh8yVH"
      },
      "outputs": [],
      "source": [
        "odds = range(1,25, 2)"
      ]
    },
    {
      "cell_type": "code",
      "source": [
        "for i in odds:\n",
        "  print(i, end=' ')"
      ],
      "metadata": {
        "colab": {
          "base_uri": "https://localhost:8080/"
        },
        "id": "TLBmU-ur86pK",
        "outputId": "fa88deca-afe9-4c0f-8a50-098e22b2b6aa"
      },
      "execution_count": 2,
      "outputs": [
        {
          "output_type": "stream",
          "name": "stdout",
          "text": [
            "1 3 5 7 9 11 13 15 17 19 21 23 "
          ]
        }
      ]
    },
    {
      "cell_type": "code",
      "source": [
        "even = [odd+1 for odd in odds]"
      ],
      "metadata": {
        "id": "BA68iax99Ob6"
      },
      "execution_count": 3,
      "outputs": []
    },
    {
      "cell_type": "code",
      "source": [
        "even"
      ],
      "metadata": {
        "colab": {
          "base_uri": "https://localhost:8080/"
        },
        "id": "cDx0I9Ng9cqD",
        "outputId": "e3feacdc-54b6-4c4d-8d00-0c8fa8128804"
      },
      "execution_count": 4,
      "outputs": [
        {
          "output_type": "execute_result",
          "data": {
            "text/plain": [
              "[2, 4, 6, 8, 10, 12, 14, 16, 18, 20, 22, 24]"
            ]
          },
          "metadata": {},
          "execution_count": 4
        }
      ]
    },
    {
      "cell_type": "code",
      "source": [
        "square_div_by_5 = [ odd*odd if odd%5==0 else None for odd in odds ]\n",
        "square_div_by_5"
      ],
      "metadata": {
        "colab": {
          "base_uri": "https://localhost:8080/"
        },
        "id": "Xe0t5WtJ9gE1",
        "outputId": "d471a681-ac2f-49c9-d7cf-37847572e644"
      },
      "execution_count": 5,
      "outputs": [
        {
          "output_type": "execute_result",
          "data": {
            "text/plain": [
              "[None, None, 25, None, None, None, None, 225, None, None, None, None]"
            ]
          },
          "metadata": {},
          "execution_count": 5
        }
      ]
    },
    {
      "cell_type": "code",
      "source": [
        "nums = {1:2,\"pikachu\":'shaktiman', True:False, 0.14:3.14}\n",
        "opposite_nums = {value:key for key,value in nums.items()}\n",
        "opposite_nums"
      ],
      "metadata": {
        "id": "4V5RlsvS-eKv",
        "colab": {
          "base_uri": "https://localhost:8080/"
        },
        "outputId": "1b94e5fa-3f64-47ba-a853-00bbf4fe18fa"
      },
      "execution_count": 6,
      "outputs": [
        {
          "output_type": "execute_result",
          "data": {
            "text/plain": [
              "{3.14: 0.14, False: 1, 'shaktiman': 'pikachu'}"
            ]
          },
          "metadata": {},
          "execution_count": 6
        }
      ]
    },
    {
      "cell_type": "code",
      "source": [
        "nums = {1:2,\"pikachu\":'shaktiman', True:False, 0.14:3.14}\n",
        "opposite_nums = {key:value for key,value in nums.items()}\n",
        "opposite_nums"
      ],
      "metadata": {
        "colab": {
          "base_uri": "https://localhost:8080/"
        },
        "id": "VHdiE_mbHgfj",
        "outputId": "41af092d-9565-4b6b-f971-c75f4c05b11e"
      },
      "execution_count": 7,
      "outputs": [
        {
          "output_type": "execute_result",
          "data": {
            "text/plain": [
              "{0.14: 3.14, 1: False, 'pikachu': 'shaktiman'}"
            ]
          },
          "metadata": {},
          "execution_count": 7
        }
      ]
    },
    {
      "cell_type": "code",
      "source": [
        "word_thes = {1:'hello', 2:'bye', 3:'world', 4:'sun'}\n"
      ],
      "metadata": {
        "id": "v1hp6mfdA2Ea"
      },
      "execution_count": 8,
      "outputs": []
    },
    {
      "cell_type": "code",
      "source": [
        "word_thes = {k+1:v for k,v in word_thes.items()}\n"
      ],
      "metadata": {
        "id": "KSRyrt1wH5pd"
      },
      "execution_count": 9,
      "outputs": []
    },
    {
      "cell_type": "code",
      "source": [
        "word_thes[0] = 'bird'\n",
        "word_thes[1] = 'word'\n"
      ],
      "metadata": {
        "id": "LJKhDo_wPY_Q"
      },
      "execution_count": 10,
      "outputs": []
    },
    {
      "cell_type": "code",
      "source": [
        "word_thes"
      ],
      "metadata": {
        "colab": {
          "base_uri": "https://localhost:8080/"
        },
        "id": "u7TGhI4RP0d6",
        "outputId": "f2da0651-0f25-4cea-a4ee-fddffdca4980"
      },
      "execution_count": 11,
      "outputs": [
        {
          "output_type": "execute_result",
          "data": {
            "text/plain": [
              "{0: 'bird', 1: 'word', 2: 'hello', 3: 'bye', 4: 'world', 5: 'sun'}"
            ]
          },
          "metadata": {},
          "execution_count": 11
        }
      ]
    },
    {
      "cell_type": "code",
      "source": [
        ""
      ],
      "metadata": {
        "id": "-YPFjZpEP17F"
      },
      "execution_count": 11,
      "outputs": []
    }
  ]
}